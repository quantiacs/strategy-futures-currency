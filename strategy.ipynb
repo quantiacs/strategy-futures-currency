{
 "cells": [
  {
   "cell_type": "markdown",
   "metadata": {},
   "source": [
    "# Using IMF Currency Data\n",
    "\n",
    "The [International Monetary Fund (IMF)](https://www.imf.org) publishes a range of time series data on IMF lending, exchange rates and other economic and financial indicators.\n",
    "\n",
    "In this template we show how to to use currency data for developing a trading algorithm.\n",
    "\n",
    "**Need help?** Check the [**Documentation**](https://quantiacs.com/documentation/en/) and find solutions/report problems in the [**Forum**](https://quantiacs.com/community/categories) section.\n",
    "\n",
    "**More help with Jupyter?** Check the official [**Jupyter**](https://jupyter.org/) page.\n",
    "\n",
    "**Documentation on the IMF data** can be found [**here**](https://github.com/quantiacs/documentation/blob/master/en/source/user_guide/data.md).\n",
    "\n",
    "Once you are done, click on **Submit to the contest** and take part to our competitions.\n",
    "\n",
    "API reference:\n",
    "\n",
    "* **data**: check how to work with [data](https://quantiacs.com/documentation/en/reference/data_load_functions.html);\n",
    "\n",
    "* **backtesting**: read how to run the [simulation](https://quantiacs.com/documentation/en/reference/evaluation.html) and check the results.\n",
    "\n",
    "In this template we use the optimizer function described in:\n",
    "\n",
    "* **optimization**: read more on our [article](https://quantiacs.com/community/topic/29/optimizing-and-monitoring-a-trading-system-with-quantiacs)."
   ]
  },
  {
   "cell_type": "code",
   "execution_count": null,
   "metadata": {},
   "outputs": [],
   "source": [
    "%%javascript\n",
    "window.IPython && (IPython.OutputArea.prototype._should_scroll = function(lines) { return false; })\n",
    "// disable widget scrolling"
   ]
  },
  {
   "cell_type": "code",
   "execution_count": null,
   "metadata": {},
   "outputs": [],
   "source": [
    "import xarray as xr\n",
    "import numpy as np\n",
    "import pandas as pd\n",
    "\n",
    "import qnt.ta as qnta\n",
    "import qnt.backtester as qnbt\n",
    "import qnt.data as qndata"
   ]
  },
  {
   "cell_type": "code",
   "execution_count": null,
   "metadata": {},
   "outputs": [],
   "source": [
    "# currencies listing\n",
    "currency_list = qndata.imf_load_currency_list()\n",
    "pd.DataFrame(currency_list)"
   ]
  },
  {
   "cell_type": "code",
   "execution_count": null,
   "metadata": {},
   "outputs": [],
   "source": [
    "def load_data(period):\n",
    "    # load the AEX Index data and the spot EUR rate:\n",
    "    futures  = qndata.futures_load_data(assets=['F_AE'], tail=period, dims=('time','field','asset'))\n",
    "    currency = qndata.imf_load_currency_data(assets=['EUR'], tail=period).isel(asset=0)\n",
    "    return dict(currency=currency, futures=futures), futures.time.values\n",
    "\n",
    "\n",
    "def window(data, max_date: np.datetime64, lookback_period: int):\n",
    "    # build sliding window for rolling evaluation:\n",
    "    min_date = max_date - np.timedelta64(lookback_period, 'D')\n",
    "    return dict(\n",
    "        futures  = data['futures'].sel(time=slice(min_date, max_date)),\n",
    "        currency = data['currency'].sel(time=slice(min_date, max_date))\n",
    "    )\n",
    "\n",
    "\n",
    "def strategy(data):\n",
    "    # this strategy uses the currency data as predictors for the Futures contract:   \n",
    "    close = data['futures'].sel(field='close')\n",
    "    currency = data['currency']\n",
    "    \n",
    "    ma1 = qnta.lwma(currency,10)\n",
    "    ma2 = qnta.lwma(currency,50)\n",
    "    ma3 = qnta.lwma(currency,250)\n",
    "    \n",
    "    if ma1.isel(time=-1) > ma2.isel(time=-1) and ma2.isel(time=-1) < ma3.isel(time=-1):\n",
    "        return xr.ones_like(close.isel(time=-1))\n",
    "    else:\n",
    "        return xr.zeros_like(close.isel(time=-1))\n",
    "\n",
    "\n",
    "weights = qnbt.backtest(\n",
    "    competition_type='futures',\n",
    "    load_data=load_data,\n",
    "    window=window,\n",
    "    lookback_period=365,\n",
    "    start_date='2006-01-01',\n",
    "    strategy=strategy,\n",
    "    analyze=True,\n",
    "    build_plots=True\n",
    ")"
   ]
  }
 ],
 "metadata": {
  "kernelspec": {
   "display_name": "Python 3",
   "language": "python",
   "name": "python3"
  },
  "language_info": {
   "codemirror_mode": {
    "name": "ipython",
    "version": 3
   },
   "file_extension": ".py",
   "mimetype": "text/x-python",
   "name": "python",
   "nbconvert_exporter": "python",
   "pygments_lexer": "ipython3",
   "version": "3.7.10"
  }
 },
 "nbformat": 4,
 "nbformat_minor": 4
}
